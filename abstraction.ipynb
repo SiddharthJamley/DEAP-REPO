{
 "cells": [
  {
   "cell_type": "code",
   "execution_count": 48,
   "id": "20dc8300",
   "metadata": {},
   "outputs": [
    {
     "name": "stdout",
     "output_type": "stream",
     "text": [
      "Triangle has 3 sides\n",
      "I have 4 sides\n",
      "Pentagon has 5 sides\n"
     ]
    }
   ],
   "source": [
    "# Python program to define   \n",
    "# abstract class  \n",
    "  \n",
    "from abc import ABC  \n",
    "  \n",
    "class Polygon(ABC):\n",
    "    def sides(self):   \n",
    "      pass  \n",
    "  \n",
    "class Triangle(Polygon):\n",
    "    def sides(self):   \n",
    "      print(\"Triangle has 3 sides\")   \n",
    "  \n",
    "class Pentagon(Polygon):\n",
    "    def sides(self):   \n",
    "      print(\"Pentagon has 5 sides\")   \n",
    "     \n",
    "  \n",
    "class square(Polygon):\n",
    "    def sides(self):   \n",
    "      print(\"I have 4 sides\")   \n",
    "  \n",
    "# Driver code   \n",
    "t = Triangle()   \n",
    "t.sides()   \n",
    "  \n",
    "s = square()   \n",
    "s.sides()   \n",
    "  \n",
    "p = Pentagon()   \n",
    "p.sides()   \n",
    "  \n"
   ]
  },
  {
   "cell_type": "code",
   "execution_count": null,
   "id": "1a664238",
   "metadata": {},
   "outputs": [],
   "source": []
  },
  {
   "cell_type": "code",
   "execution_count": null,
   "id": "9bad6f96",
   "metadata": {},
   "outputs": [],
   "source": []
  }
 ],
 "metadata": {
  "kernelspec": {
   "display_name": "Python 3 (ipykernel)",
   "language": "python",
   "name": "python3"
  },
  "language_info": {
   "codemirror_mode": {
    "name": "ipython",
    "version": 3
   },
   "file_extension": ".py",
   "mimetype": "text/x-python",
   "name": "python",
   "nbconvert_exporter": "python",
   "pygments_lexer": "ipython3",
   "version": "3.9.7"
  }
 },
 "nbformat": 4,
 "nbformat_minor": 5
}
